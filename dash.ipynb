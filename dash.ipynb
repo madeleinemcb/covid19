{
 "cells": [
  {
   "cell_type": "markdown",
   "metadata": {},
   "source": [
    "# **COVID-19 DASHBOARD**"
   ]
  },
  {
   "cell_type": "markdown",
   "metadata": {},
   "source": [
    "Welcome to the Covid-19 dashboard. This dashboard downloads and displays Covid data from the Public Health England website. "
   ]
  },
  {
   "cell_type": "code",
   "execution_count": 334,
   "metadata": {},
   "outputs": [],
   "source": [
    "import ipywidgets as wdg\n",
    "import pandas as pd\n",
    "import numpy as np\n",
    "import matplotlib.pyplot as plt\n",
    "import json\n",
    "from uk_covid19 import Cov19API\n",
    "import json"
   ]
  },
  {
   "cell_type": "code",
   "execution_count": 335,
   "metadata": {},
   "outputs": [],
   "source": [
    "%matplotlib inline\n",
    "plt.rcParams['figure.dpi'] = 100"
   ]
  },
  {
   "cell_type": "code",
   "execution_count": 336,
   "metadata": {},
   "outputs": [],
   "source": [
    "filters = [\n",
    "    'areaType=overview'\n",
    "]\n",
    "structure = {\n",
    "    \"date\": \"date\",\n",
    "    \"cases\": \"newCasesByPublishDate\",\n",
    "    \"hospital\": \"newAdmissions\",\n",
    "    \"deaths\": \"cumDeaths28DaysByDeathDateRate\"    \n",
    "}\n",
    "api = Cov19API(filters=filters, structure=structure)\n",
    "timeseries=api.get_json()\n",
    "import json\n",
    "with open(\"timeseries.json\", \"wt\") as OUTF:\n",
    "    json.dump(timeseries, OUTF)"
   ]
  },
  {
   "cell_type": "code",
   "execution_count": 337,
   "metadata": {},
   "outputs": [],
   "source": [
    "with open(\"timeseries.json\", \"rt\") as INFILE:\n",
    "    data=json.load(INFILE)"
   ]
  },
  {
   "cell_type": "code",
   "execution_count": 338,
   "metadata": {},
   "outputs": [],
   "source": [
    "datalist=data['data']\n",
    "dates=[dictionary['date'] for dictionary in datalist ]\n",
    "dates.sort()"
   ]
  },
  {
   "cell_type": "code",
   "execution_count": 339,
   "metadata": {},
   "outputs": [],
   "source": [
    "def parse_date(datestring):\n",
    "    return pd.to_datetime(datestring, format=\"%Y-%m-%d\")"
   ]
  },
  {
   "cell_type": "code",
   "execution_count": 340,
   "metadata": {},
   "outputs": [
    {
     "name": "stdout",
     "output_type": "stream",
     "text": [
      "2020-01-03 00:00:00  to  2020-11-26 00:00:00\n"
     ]
    }
   ],
   "source": [
    "startdate=parse_date(dates[0])\n",
    "enddate=parse_date(dates[-1])\n",
    "print (startdate, ' to ', enddate)"
   ]
  },
  {
   "cell_type": "code",
   "execution_count": 341,
   "metadata": {},
   "outputs": [],
   "source": [
    "index=pd.date_range(startdate, enddate, freq='D')\n",
    "timeseriesdf=pd.DataFrame(index=index, columns=['cases', 'hospital', 'deaths'])"
   ]
  },
  {
   "cell_type": "code",
   "execution_count": 342,
   "metadata": {},
   "outputs": [],
   "source": [
    "for entry in datalist: \n",
    "    date=parse_date(entry['date'])\n",
    "    for column in ['cases', 'hospital', 'deaths']:\n",
    "        if pd.isna(timeseriesdf.loc[date, column]): \n",
    "            value= float(entry[column]) if entry[column]!=None else 0.0\n",
    "            timeseriesdf.loc[date, column]=value\n",
    "            \n",
    "\n",
    "timeseriesdf.fillna(0.0, inplace=True)"
   ]
  },
  {
   "cell_type": "code",
   "execution_count": 343,
   "metadata": {},
   "outputs": [],
   "source": [
    "timeseriesdf.to_pickle(\"timeseriesdf.pkl\")"
   ]
  },
  {
   "cell_type": "code",
   "execution_count": 344,
   "metadata": {},
   "outputs": [
    {
     "data": {
      "application/vnd.jupyter.widget-view+json": {
       "model_id": "1764dad897f74d42a640ef9d4a889082",
       "version_major": 2,
       "version_minor": 0
      },
      "text/plain": [
       "Button(button_style='success', description='Refresh Data', icon='download', style=ButtonStyle(), tooltip='Clic…"
      ]
     },
     "metadata": {},
     "output_type": "display_data"
    }
   ],
   "source": [
    "def access_api():\n",
    "    filters = [\n",
    "    'areaType=overview'\n",
    "    ]\n",
    "    structure = {\n",
    "    \"date\": \"date\",\n",
    "    \"cases\": \"newCasesByPublishDate\",\n",
    "    \"hospital\": \"newAdmissions\",\n",
    "    \"deaths\": \"cumDeaths28DaysByDeathDateRate\"    \n",
    "    }\n",
    "    api = Cov19API(filters=filters, structure=structure)\n",
    "    timeseries=api.get_json()\n",
    "    return\n",
    "\n",
    "\n",
    "def api_button_callback(button):\n",
    "    apidata=access_api()\n",
    "    global df\n",
    "    timeseriesdf=wrangle_data(apidata)\n",
    "    refresh_graph\n",
    "    apibutton.icon=\"check\"\n",
    "\n",
    "apibutton=wdg.Button(\n",
    "    description='Refresh Data', \n",
    "    disabled=False,\n",
    "    button_style='success', \n",
    "    tooltip=\"Click to download current Public Health England data\",\n",
    "    icon='download'\n",
    ")\n",
    "    \n",
    "\n",
    "apibutton.on_click(api_button_callback) \n",
    "\n",
    "display(apibutton)\n",
    "\n"
   ]
  },
  {
   "cell_type": "markdown",
   "metadata": {},
   "source": [
    "## **Graph**"
   ]
  },
  {
   "cell_type": "markdown",
   "metadata": {},
   "source": [
    "This graph displays the running statistics for Covid -19 cases, hospital admissions, and deaths. You can choose to view just one of these at a time, or view them all together. "
   ]
  },
  {
   "cell_type": "code",
   "execution_count": 345,
   "metadata": {},
   "outputs": [],
   "source": [
    "timeseriesdf=pd.read_pickle(\"timeseriesdf.pkl\")"
   ]
  },
  {
   "cell_type": "code",
   "execution_count": 346,
   "metadata": {},
   "outputs": [
    {
     "data": {
      "application/vnd.jupyter.widget-view+json": {
       "model_id": "a73827ad7f0d45cf86f3ee3d287ac5b1",
       "version_major": 2,
       "version_minor": 0
      },
      "text/plain": [
       "HBox(children=(Output(), VBox(children=(SelectMultiple(description='Stats:', index=(0, 1, 2), options=('cases'…"
      ]
     },
     "metadata": {},
     "output_type": "display_data"
    }
   ],
   "source": [
    "timeseriesdf.plot\n",
    "    \n",
    "series=wdg.SelectMultiple(\n",
    "    options=['cases', 'hospital', 'deaths'],\n",
    "    value=['cases', 'hospital', 'deaths'],\n",
    "    rows=3,\n",
    "    description='Stats:',\n",
    "    disabled=False\n",
    ")\n",
    "\n",
    "scale=wdg.RadioButtons(\n",
    "    options=['linear', 'log'],\n",
    "    description='Scale:',\n",
    "    disabled=False\n",
    ")\n",
    "\n",
    "\n",
    "def timeseries_graph(gcols, gscale):\n",
    "    if gscale=='linear':\n",
    "        logscale=False\n",
    "    else:\n",
    "        logscale=True\n",
    "    ncols=len(gcols)\n",
    "    if ncols>0:\n",
    "        timeseriesdf[list(gcols)].plot(logy=logscale)\n",
    "    else:\n",
    "        print(\"Click to select data for graph\")\n",
    "        print(\"(CTRL-Click to select more than one category)\")\n",
    "\n",
    "graph=wdg.interactive_output(timeseries_graph, {'gcols': series, 'gscale': scale})\n",
    "\n",
    "\n",
    "\n",
    "ctrls=wdg.VBox([series, scale])\n",
    "\n",
    "form=wdg.HBox([graph, ctrls])\n",
    "\n",
    "display(form)\n"
   ]
  },
  {
   "cell_type": "code",
   "execution_count": null,
   "metadata": {},
   "outputs": [],
   "source": []
  },
  {
   "cell_type": "code",
   "execution_count": null,
   "metadata": {},
   "outputs": [],
   "source": []
  }
 ],
 "metadata": {
  "kernelspec": {
   "display_name": "Python 3",
   "language": "python",
   "name": "python3"
  },
  "language_info": {
   "codemirror_mode": {
    "name": "ipython",
    "version": 3
   },
   "file_extension": ".py",
   "mimetype": "text/x-python",
   "name": "python",
   "nbconvert_exporter": "python",
   "pygments_lexer": "ipython3",
   "version": "3.8.5"
  }
 },
 "nbformat": 4,
 "nbformat_minor": 4
}
